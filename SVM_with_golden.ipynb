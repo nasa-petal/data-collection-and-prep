{
  "cells": [
    {
      "cell_type": "markdown",
      "metadata": {
        "id": "view-in-github",
        "colab_type": "text"
      },
      "source": [
        "<a href=\"https://colab.research.google.com/github/nasa-petal/data-collection-and-prep/blob/main/SVM_with_golden.ipynb\" target=\"_parent\"><img src=\"https://colab.research.google.com/assets/colab-badge.svg\" alt=\"Open In Colab\"/></a>"
      ]
    },
    {
      "cell_type": "code",
      "execution_count": null,
      "metadata": {
        "id": "YzX-mV9eCKzV"
      },
      "outputs": [],
      "source": [
        "import pandas as pd\n",
        "import numpy as np\n",
        "from nltk.tokenize import word_tokenize\n",
        "from nltk import pos_tag\n",
        "from nltk.corpus import stopwords\n",
        "from nltk.stem import WordNetLemmatizer\n",
        "from sklearn.preprocessing import LabelEncoder\n",
        "from collections import defaultdict\n",
        "from nltk.corpus import wordnet as wn\n",
        "from sklearn.feature_extraction.text import TfidfVectorizer\n",
        "from sklearn import model_selection, naive_bayes, svm\n",
        "from sklearn.metrics import accuracy_score"
      ]
    },
    {
      "cell_type": "code",
      "execution_count": null,
      "metadata": {
        "colab": {
          "base_uri": "https://localhost:8080/"
        },
        "id": "duFljGhwEXq0",
        "outputId": "e3ddcb04-ca35-4306-88c3-32f43963331d"
      },
      "outputs": [
        {
          "name": "stderr",
          "output_type": "stream",
          "text": [
            "[nltk_data] Downloading package punkt to /root/nltk_data...\n",
            "[nltk_data]   Unzipping tokenizers/punkt.zip.\n",
            "[nltk_data] Downloading package wordnet to /root/nltk_data...\n",
            "[nltk_data] Downloading package omw-1.4 to /root/nltk_data...\n",
            "[nltk_data] Downloading package averaged_perceptron_tagger to\n",
            "[nltk_data]     /root/nltk_data...\n",
            "[nltk_data]   Unzipping taggers/averaged_perceptron_tagger.zip.\n",
            "[nltk_data] Downloading package stopwords to /root/nltk_data...\n",
            "[nltk_data]   Unzipping corpora/stopwords.zip.\n"
          ]
        },
        {
          "data": {
            "text/plain": [
              "True"
            ]
          },
          "execution_count": 2,
          "metadata": {},
          "output_type": "execute_result"
        }
      ],
      "source": [
        "import nltk\n",
        "nltk.download('punkt')\n",
        "nltk.download('wordnet')\n",
        "nltk.download('omw-1.4')\n",
        "nltk.download('averaged_perceptron_tagger')\n",
        "nltk.download('stopwords')"
      ]
    },
    {
      "cell_type": "code",
      "execution_count": null,
      "metadata": {
        "id": "Iu_Q1Z_QC8FU"
      },
      "outputs": [],
      "source": [
        "\n",
        "np.random.seed(500)\n",
        "\n",
        "import json\n",
        "\n",
        "with open(\"golden.json\", \"r\") as read_file:\n",
        "    papers = json.load(read_file)"
      ]
    },
    {
      "cell_type": "code",
      "execution_count": null,
      "metadata": {
        "colab": {
          "base_uri": "https://localhost:8080/"
        },
        "id": "eooWfa5mOIcJ",
        "outputId": "4ff21157-8164-4b51-a490-098015bb82c4"
      },
      "outputs": [
        {
          "name": "stdout",
          "output_type": "stream",
          "text": [
            "Empty DataFrame\n",
            "Columns: [text, label]\n",
            "Index: []\n"
          ]
        }
      ],
      "source": [
        "Corpus = pd.DataFrame(columns = ['text', 'label'])\n",
        "print(Corpus)"
      ]
    },
    {
      "cell_type": "code",
      "execution_count": null,
      "metadata": {
        "id": "qlj0P48FOdJa"
      },
      "outputs": [],
      "source": [
        "for paper in papers: \n",
        "  Corpus.loc[len(Corpus.index)] = [paper['abstract'], paper['isBiomimicry']]"
      ]
    },
    {
      "cell_type": "code",
      "execution_count": null,
      "metadata": {
        "colab": {
          "base_uri": "https://localhost:8080/",
          "height": 35
        },
        "id": "SqnaJjHHQ5Uk",
        "outputId": "0618b45b-2ab6-431a-e204-e79a82e32ce8"
      },
      "outputs": [
        {
          "data": {
            "application/vnd.google.colaboratory.intrinsic+json": {
              "type": "string"
            },
            "text/plain": [
              "'Y'"
            ]
          },
          "execution_count": 6,
          "metadata": {},
          "output_type": "execute_result"
        }
      ],
      "source": [
        "Corpus['label'][0]"
      ]
    },
    {
      "cell_type": "code",
      "execution_count": null,
      "metadata": {
        "colab": {
          "base_uri": "https://localhost:8080/"
        },
        "id": "PQ29tYFHM-GQ",
        "outputId": "3fda19c8-5acb-46df-e89a-399dc683c5e9"
      },
      "outputs": [
        {
          "data": {
            "text/plain": [
              "{'paper': 'W2103410568',\n",
              " 'mesh_terms': ['Anura',\n",
              "  'Nesting Behavior',\n",
              "  'Animals',\n",
              "  'Anura',\n",
              "  'Female',\n",
              "  'Larva',\n",
              "  'Larva',\n",
              "  'Lung',\n",
              "  'Lung',\n",
              "  'Male',\n",
              "  'Nesting Behavior',\n",
              "  'Ovum',\n",
              "  'Ovum',\n",
              "  'Viscoelastic Substances'],\n",
              " 'venue_ids': ['V153317304'],\n",
              " 'venue_names': ['Europe PMC',\n",
              "  'Biology Letters',\n",
              "  \"Weird Nature: An Astonishing Exploration of Nature's Strangest Behavior\",\n",
              "  'Proceedings of The Royal Society B: Biological Sciences'],\n",
              " 'author_ids': ['A2346835213', 'A2098042950'],\n",
              " 'author_names': ['Laura Dalgetty', 'Malcolm W. Kennedy'],\n",
              " 'reference_ids': ['W2159311519',\n",
              "  'W2038086748',\n",
              "  'W2130285640',\n",
              "  'W2271809641',\n",
              "  'W2047714064',\n",
              "  'W1794681095',\n",
              "  'W2054319467',\n",
              "  'W1991801038',\n",
              "  'W2146144564',\n",
              "  'W2083811528',\n",
              "  'W2066345165',\n",
              "  'W2101222182'],\n",
              " 'title': 'Building a home from foam—túngara frog foam nest architecture and three-phase construction process',\n",
              " 'abstract': \"frogs that build foam nests floating on water face the problems of over-dispersion of the secretions used and eggs being dangerously exposed at the foam : air interface. nest construction behaviour of tungara frogs, engystomops pustulosus, has features that may circumvent these problems. pairs build nests in periodic bursts of foam production and egg deposition, three discrete phases being discernible. the first is characterized by a bubble raft without egg deposition and an approximately linear increase in duration of mixing events with time. this phase may reduce initial over-dispersion of foam precursor materials until a critical concentration is achieved. the main building phase is marked by mixing events and start-to-start intervals being nearly constant in duration. during the final phase, mixing events do not change in duration but intervals between them increase in an exponential-like fashion. pairs joining a colonial nesting abbreviate their initial phase, presumably by exploiting a pioneer pair's bubble raft, thereby reducing energy and material expenditure, and time exposed to predators. finally, eggs are deposited only in the centre of nests with a continuously produced, approximately 1 cm deep egg-free cortex that protectively encloses hatched larvae in stranded nests.\",\n",
              " 'isOpenAccess': True,\n",
              " 'fullDocLink': 'http://europepmc.org/articles/pmc2880057?pdf=render',\n",
              " 'petalID': 0,\n",
              " 'doi': '10.1098/RSBL.2009.0934',\n",
              " 'level1': ['assemble/break_down_structure',\n",
              "  'protect_from_living/non-living_threats'],\n",
              " 'level2': ['physically_assemble_structure',\n",
              "  'protect_from_non-living_threats',\n",
              "  'protect_from_living_threats'],\n",
              " 'level3': ['protect_from_loss_of_liquids',\n",
              "  'protect_from_microbes',\n",
              "  'protect_from_animals'],\n",
              " 'isBiomimicry': 'Y',\n",
              " 'url': 'https://royalsocietypublishing.org/doi/10.1098/rsbl.2009.0934',\n",
              " 'mag_terms': ['bubble nest',\n",
              "  'nest',\n",
              "  'mixing',\n",
              "  'bubble',\n",
              "  'phase',\n",
              "  'engystomops pustulosus',\n",
              "  'deposition',\n",
              "  'three phase',\n",
              "  'composite material',\n",
              "  'ecology',\n",
              "  'biology'],\n",
              " 'species': ['engystomops pustulosus', 'tungara frog', 'frogs'],\n",
              " 'absolute_relevancy': [0.015873015873015,\n",
              "  0.015873015873015,\n",
              "  0.031746031746031],\n",
              " 'relative_relevancy': [0.5, 0.5, 1.0]}"
            ]
          },
          "execution_count": 7,
          "metadata": {},
          "output_type": "execute_result"
        }
      ],
      "source": [
        "papers[0]"
      ]
    },
    {
      "cell_type": "code",
      "execution_count": null,
      "metadata": {
        "colab": {
          "base_uri": "https://localhost:8080/",
          "height": 192
        },
        "id": "Vd6xczeAEzu_",
        "outputId": "c0c64c15-6b4d-410b-e7f8-7f230605edb6"
      },
      "outputs": [
        {
          "data": {
            "application/vnd.google.colaboratory.intrinsic+json": {
              "type": "string"
            },
            "text/plain": [
              "\"frogs that build foam nests floating on water face the problems of over-dispersion of the secretions used and eggs being dangerously exposed at the foam : air interface. nest construction behaviour of tungara frogs, engystomops pustulosus, has features that may circumvent these problems. pairs build nests in periodic bursts of foam production and egg deposition, three discrete phases being discernible. the first is characterized by a bubble raft without egg deposition and an approximately linear increase in duration of mixing events with time. this phase may reduce initial over-dispersion of foam precursor materials until a critical concentration is achieved. the main building phase is marked by mixing events and start-to-start intervals being nearly constant in duration. during the final phase, mixing events do not change in duration but intervals between them increase in an exponential-like fashion. pairs joining a colonial nesting abbreviate their initial phase, presumably by exploiting a pioneer pair's bubble raft, thereby reducing energy and material expenditure, and time exposed to predators. finally, eggs are deposited only in the centre of nests with a continuously produced, approximately 1 cm deep egg-free cortex that protectively encloses hatched larvae in stranded nests.\""
            ]
          },
          "execution_count": 8,
          "metadata": {},
          "output_type": "execute_result"
        }
      ],
      "source": [
        "Corpus['text'][0]"
      ]
    },
    {
      "cell_type": "code",
      "execution_count": null,
      "metadata": {
        "colab": {
          "background_save": true
        },
        "id": "LULswXchDuey"
      },
      "outputs": [],
      "source": [
        "# Step - a : Remove blank rows if any.\n",
        "Corpus['text'].dropna(inplace=True)\n",
        "# Step - b : Change all the text to lower case. This is required as python interprets 'dog' and 'DOG' differently\n",
        "Corpus['text'] = [entry.lower() for entry in Corpus['text']]\n",
        "# Step - c : Tokenization : In this each entry in the corpus will be broken into set of words\n",
        "Corpus['text']= [word_tokenize(entry) for entry in Corpus['text']]\n",
        "# Step - d : Remove Stop words, Non-Numeric and perfom Word Stemming/Lemmenting.\n",
        "# WordNetLemmatizer requires Pos tags to understand if the word is noun or verb or adjective etc. By default it is set to Noun\n",
        "tag_map = defaultdict(lambda : wn.NOUN)\n",
        "tag_map['J'] = wn.ADJ\n",
        "tag_map['V'] = wn.VERB\n",
        "tag_map['R'] = wn.ADV\n",
        "for index,entry in enumerate(Corpus['text']):\n",
        "    # Declaring Empty List to store the words that follow the rules for this step\n",
        "    Final_words = []\n",
        "    # Initializing WordNetLemmatizer()\n",
        "    word_Lemmatized = WordNetLemmatizer()\n",
        "    # pos_tag function below will provide the 'tag' i.e if the word is Noun(N) or Verb(V) or something else.\n",
        "    for word, tag in pos_tag(entry):\n",
        "        # Below condition is to check for Stop words and consider only alphabets\n",
        "        if word not in stopwords.words('english') and word.isalpha():\n",
        "            word_Final = word_Lemmatized.lemmatize(word,tag_map[tag[0]])\n",
        "            Final_words.append(word_Final)\n",
        "    # The final processed set of words for each iteration will be stored in 'text_final'\n",
        "    Corpus.loc[index,'text_final'] = str(Final_words)"
      ]
    },
    {
      "cell_type": "code",
      "execution_count": 10,
      "metadata": {
        "id": "vREpeRkxEOOo"
      },
      "outputs": [],
      "source": [
        "Train_X, Test_X, Train_Y, Test_Y = model_selection.train_test_split(Corpus['text_final'],Corpus['label'],test_size=0.3)"
      ]
    },
    {
      "cell_type": "code",
      "execution_count": 11,
      "metadata": {
        "id": "NUtu1EE8IRqh"
      },
      "outputs": [],
      "source": [
        "Encoder = LabelEncoder()\n",
        "Train_Y = Encoder.fit_transform(Train_Y)\n",
        "Test_Y = Encoder.fit_transform(Test_Y)"
      ]
    },
    {
      "cell_type": "code",
      "execution_count": null,
      "metadata": {
        "id": "6fqWhBjpIUcE"
      },
      "outputs": [],
      "source": [
        "Tfidf_vect = TfidfVectorizer(max_features=5000)\n",
        "Tfidf_vect.fit(Corpus['text_final'])\n",
        "Train_X_Tfidf = Tfidf_vect.transform(Train_X)\n",
        "Test_X_Tfidf = Tfidf_vect.transform(Test_X)\n",
        " \n",
        "print(Tfidf_vect.vocabulary_)\n",
        "print(Train_X_Tfidf)\n"
      ]
    },
    {
      "cell_type": "code",
      "execution_count": 22,
      "metadata": {
        "colab": {
          "base_uri": "https://localhost:8080/"
        },
        "id": "NgS-wzG6IZ7_",
        "outputId": "739e5e60-8b9c-46f4-f8dc-38d9cd8ada00"
      },
      "outputs": [
        {
          "output_type": "stream",
          "name": "stdout",
          "text": [
            "[0 0 0 ... 0 0 1]\n",
            "Naive Bayes Accuracy Score ->  88.84758364312268\n"
          ]
        }
      ],
      "source": [
        "# fit the training dataset on the NB classifier\n",
        "Naive = naive_bayes.MultinomialNB()\n",
        "Naive.fit(Train_X_Tfidf,Train_Y)\n",
        "# predict the labels on validation dataset\n",
        "predictions_NB = Naive.predict(Test_X_Tfidf)\n",
        "print(predictions_NB)\n",
        "# Use accuracy_score function to get the accuracy\n",
        "print(\"Naive Bayes Accuracy Score -> \",accuracy_score(predictions_NB, Test_Y)*100)"
      ]
    },
    {
      "cell_type": "code",
      "execution_count": 14,
      "metadata": {
        "colab": {
          "base_uri": "https://localhost:8080/"
        },
        "id": "UIHwhi85IuqT",
        "outputId": "d63a1257-bc7f-45c6-cd96-c4d319465960"
      },
      "outputs": [
        {
          "output_type": "stream",
          "name": "stdout",
          "text": [
            "SVM Accuracy Score ->  91.17945251774248\n"
          ]
        }
      ],
      "source": [
        "# Classifier - Algorithm - SVM\n",
        "# fit the training dataset on the classifier\n",
        "SVM = svm.SVC(C=1.0, kernel='linear', degree=3, gamma='auto')\n",
        "SVM.fit(Train_X_Tfidf,Train_Y)\n",
        "# predict the labels on validation dataset\n",
        "predictions_SVM = SVM.predict(Test_X_Tfidf)\n",
        "# Use accuracy_score function to get the accuracy\n",
        "print(\"SVM Accuracy Score -> \",accuracy_score(predictions_SVM, Test_Y)*100)"
      ]
    },
    {
      "cell_type": "code",
      "execution_count": 16,
      "metadata": {
        "id": "I7OjE4ABI34Z"
      },
      "outputs": [],
      "source": [
        "test_string = np.empty(shape = (1,1))\n"
      ]
    },
    {
      "cell_type": "code",
      "source": [
        "print(test_string)"
      ],
      "metadata": {
        "colab": {
          "base_uri": "https://localhost:8080/"
        },
        "id": "PhTGXRXZLqtW",
        "outputId": "7584c8c3-9e60-422c-c2a4-e55fb782e368"
      },
      "execution_count": 17,
      "outputs": [
        {
          "output_type": "stream",
          "name": "stdout",
          "text": [
            "[[2698.]]\n"
          ]
        }
      ]
    },
    {
      "cell_type": "code",
      "source": [
        "Test_W_Tfidf = Tfidf_vect.transform([\"The goal of our study was to examine whether the in vivoforce-length behavior, work and elastic energy savings of distal muscle-tendon units in the legs of tammar wallabies (Macropus eugenii) change during level versus incline hopping.\"])"
      ],
      "metadata": {
        "id": "2bA1d4ewL3fU"
      },
      "execution_count": 25,
      "outputs": []
    },
    {
      "cell_type": "code",
      "source": [
        "wpredictions_NB = Naive.predict(Test_W_Tfidf)\n",
        "print(wpredictions_NB)"
      ],
      "metadata": {
        "colab": {
          "base_uri": "https://localhost:8080/"
        },
        "id": "h_ibMC3eMLwf",
        "outputId": "4bfa9cee-3d94-4790-bc1b-2c2b8ac81018"
      },
      "execution_count": 26,
      "outputs": [
        {
          "output_type": "stream",
          "name": "stdout",
          "text": [
            "[0]\n"
          ]
        }
      ]
    },
    {
      "cell_type": "code",
      "source": [],
      "metadata": {
        "id": "9wgsIamANSsZ"
      },
      "execution_count": null,
      "outputs": []
    }
  ],
  "metadata": {
    "colab": {
      "provenance": [],
      "authorship_tag": "ABX9TyP4agvQ67SVjICFS+s6jnpS",
      "include_colab_link": true
    },
    "kernelspec": {
      "display_name": "Python 3",
      "name": "python3"
    },
    "language_info": {
      "name": "python"
    }
  },
  "nbformat": 4,
  "nbformat_minor": 0
}